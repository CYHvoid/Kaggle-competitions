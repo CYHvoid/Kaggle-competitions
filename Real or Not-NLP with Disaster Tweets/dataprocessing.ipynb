{
 "cells": [
  {
   "cell_type": "code",
   "execution_count": 1,
   "metadata": {},
   "outputs": [],
   "source": [
    "import numpy as np\n",
    "import pandas as pd\n",
    "import matplotlib.pyplot as plt\n",
    "import seaborn as sns"
   ]
  },
  {
   "cell_type": "code",
   "execution_count": 2,
   "metadata": {},
   "outputs": [
    {
     "name": "stdout",
     "output_type": "stream",
     "text": [
      "   Unnamed: 0  Unnamed: 0.1  id keyword location  \\\n",
      "0           0             0   1     NaN      NaN   \n",
      "1           1             1   4     NaN      NaN   \n",
      "2           2             2   5     NaN      NaN   \n",
      "3           3             3   6     NaN      NaN   \n",
      "4           4             4   7     NaN      NaN   \n",
      "\n",
      "                                                text  target  \n",
      "0  Our Deeds are the Reason of this earthquake Ma...       1  \n",
      "1              Forest fire near La Ronge Sask Canada       1  \n",
      "2  All residents asked to shelter in place are be...       1  \n",
      "3  13000 people receive wildfires evacuation orde...       1  \n",
      "4  Just got sent this photo from Ruby Alaska as s...       1  \n"
     ]
    }
   ],
   "source": [
    "tweet = pd.read_csv('train.csv')\n",
    "test = pd.read_csv('test.csv')\n",
    "print(tweet.head(5))"
   ]
  },
  {
   "cell_type": "code",
   "execution_count": 3,
   "metadata": {},
   "outputs": [
    {
     "data": {
      "text/plain": [
       "Text(0, 0.5, 'samples')"
      ]
     },
     "execution_count": 3,
     "metadata": {},
     "output_type": "execute_result"
    },
    {
     "data": {
      "image/png": "[encoded data removed]",
      "text/plain": [
       "<Figure size 432x288 with 1 Axes>"
      ]
     },
     "metadata": {
      "needs_background": "light"
     },
     "output_type": "display_data"
    }
   ],
   "source": [
    "x = tweet.target.value_counts()\n",
    "sns.barplot(x.index, x)\n",
    "plt.gca().set_ylabel('samples')"
   ]
  },
  {
   "cell_type": "code",
   "execution_count": 4,
   "metadata": {},
   "outputs": [],
   "source": [
    "import re\n",
    "import string\n",
    "from spellchecker import SpellChecker\n",
    "\n",
    "# 拼写纠正\n",
    "spell = SpellChecker()\n",
    "def correct_spellings(text):\n",
    "    corrected_text = []\n",
    "    misspelled_words = spell.unknown(text.split())\n",
    "    for word in text.split():\n",
    "        if word in misspelled_words:\n",
    "            corrected_text.append(spell.correction(word))\n",
    "        else:\n",
    "            corrected_text.append(word)\n",
    "    return \" \".join(corrected_text)\n",
    "\n",
    "# 去除网址\n",
    "def remove_url(txt):\n",
    "    url = re.compile(r'https?://\\S+|www\\.\\S+')\n",
    "    return url.sub(r'', txt)\n",
    "\n",
    "# 去表情包\n",
    "def remove_emoji(txt):\n",
    "    emoji_pattern = re.compile(\"[\"\n",
    "                           u\"\\U0001F600-\\U0001F64F\"  # emoticons\n",
    "                           u\"\\U0001F300-\\U0001F5FF\"  # symbols & pictographs\n",
    "                           u\"\\U0001F680-\\U0001F6FF\"  # transport & map symbols\n",
    "                           u\"\\U0001F1E0-\\U0001F1FF\"  # flags (iOS)\n",
    "                           u\"\\U00002702-\\U000027B0\"\n",
    "                           u\"\\U000024C2-\\U0001F251\"\n",
    "                           \"]+\", flags=re.UNICODE)\n",
    "    return emoji_pattern.sub(r'', txt)\n",
    "\n",
    "# 去html标记\n",
    "def remove_html(txt):\n",
    "    html=re.compile(r'<.*?>')\n",
    "    return html.sub(r'', txt)\n",
    "\n",
    "# 去标点\n",
    "def remove_punct(txt):\n",
    "    table = str.maketrans('', '', string.punctuation)\n",
    "    return txt.translate(table)"
   ]
  },
  {
   "cell_type": "code",
   "execution_count": null,
   "metadata": {},
   "outputs": [],
   "source": [
    "tweet['text'] = tweet['text'].apply(lambda x : remove_url(x))\n",
    "tweet['text'] = tweet['text'].apply(lambda x : remove_emoji(x))\n",
    "tweet['text'] = tweet['text'].apply(lambda x : remove_html(x))\n",
    "tweet['text'] = tweet['text'].apply(lambda x : remove_punct(x))\n",
    "# tweet['text'] = tweet['text'].apply(lambda x : correct_spellings(x))\n",
    "test['text'] = test['text'].apply(lambda x : remove_url(x))\n",
    "test['text'] = test['text'].apply(lambda x : remove_emoji(x))\n",
    "test['text'] = test['text'].apply(lambda x : remove_html(x))\n",
    "test['text'] = test['text'].apply(lambda x : remove_punct(x))\n",
    "# test['text'] = test['text'].apply(lambda x : correct_spellings(x))\n",
    "print(tweet.head(10))"
   ]
  },
  {
   "cell_type": "code",
   "execution_count": 4,
   "metadata": {},
   "outputs": [],
   "source": [
    "from nltk.corpus import stopwords\n",
    "from nltk.util import ngrams\n",
    "from gensim.parsing.preprocessing import remove_stopwords\n",
    "\n",
    "# 去除停用词 gensim 去除停用词不需要分词\n",
    "def remove_stop(txt):\n",
    "    res = remove_stopwords(txt)\n",
    "    return res"
   ]
  },
  {
   "cell_type": "code",
   "execution_count": 6,
   "metadata": {},
   "outputs": [],
   "source": [
    "tweet['text'] = tweet['text'].apply(lambda x : remove_stopwords(x))\n",
    "test['text'] = test['text'].apply(lambda x : remove_stopwords(x))"
   ]
  },
  {
   "cell_type": "code",
   "execution_count": 16,
   "metadata": {},
   "outputs": [],
   "source": [
    "def remove_huanhang(text):\n",
    "    txt = \"\"\n",
    "    for ch in text:\n",
    "        if ch == '\\n':\n",
    "            ch = ' '\n",
    "        txt += ch\n",
    "    return txt"
   ]
  },
  {
   "cell_type": "code",
   "execution_count": 18,
   "metadata": {},
   "outputs": [],
   "source": [
    "tweet['text'] = tweet['text'].apply(lambda x : remove_huanhang(x))\n",
    "test['text'] = test['text'].apply(lambda x : remove_huanhang(x))"
   ]
  },
  {
   "cell_type": "code",
   "execution_count": 7,
   "metadata": {},
   "outputs": [],
   "source": [
    "tweet.to_csv('train.csv')\n",
    "test.to_csv('test.csv')"
   ]
  }
 ],
 "metadata": {
  "kernelspec": {
   "display_name": "Python 3",
   "language": "python",
   "name": "python3"
  },
  "language_info": {
   "codemirror_mode": {
    "name": "ipython",
    "version": 3
   },
   "file_extension": ".py",
   "mimetype": "text/x-python",
   "name": "python",
   "nbconvert_exporter": "python",
   "pygments_lexer": "ipython3",
   "version": "3.7.1"
  }
 },
 "nbformat": 4,
 "nbformat_minor": 4
}
